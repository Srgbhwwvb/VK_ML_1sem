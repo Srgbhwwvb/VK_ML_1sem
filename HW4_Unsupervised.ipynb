{
  "nbformat": 4,
  "nbformat_minor": 0,
  "metadata": {
    "colab": {
      "provenance": []
    },
    "kernelspec": {
      "name": "python3",
      "display_name": "Python 3"
    },
    "language_info": {
      "name": "python"
    }
  },
  "cells": [
    {
      "cell_type": "code",
      "execution_count": null,
      "metadata": {
        "colab": {
          "base_uri": "https://localhost:8080/"
        },
        "id": "GPb5t2zbcvjG",
        "outputId": "910ee130-0ecf-4055-ed00-7d2776b7948c"
      },
      "outputs": [
        {
          "output_type": "stream",
          "name": "stdout",
          "text": [
            "(14590, 77888)\n"
          ]
        }
      ],
      "source": [
        "import numpy as np\n",
        "from scipy import sparse\n",
        "from matplotlib import pyplot as plt\n",
        "from sklearn.decomposition import TruncatedSVD\n",
        "\n",
        "train = sparse.load_npz(\"trainn.npz\")\n",
        "\n",
        "print(train.shape)"
      ]
    },
    {
      "cell_type": "markdown",
      "source": [
        "Понижение размерности и приведение к обычному массиву"
      ],
      "metadata": {
        "id": "VR2UzJY5hlqQ"
      }
    },
    {
      "cell_type": "code",
      "source": [
        "tsvd = TruncatedSVD(n_components=1000, algorithm=\"arpack\")\n",
        "\n",
        "X_tsvd = tsvd.fit(train).transform(train)\n"
      ],
      "metadata": {
        "id": "bAX_zWDTfL8O"
      },
      "execution_count": null,
      "outputs": []
    },
    {
      "cell_type": "code",
      "source": [
        "X_TSVD=np.copy(X_tsvd)"
      ],
      "metadata": {
        "id": "AgKTbgnyDkjn"
      },
      "execution_count": null,
      "outputs": []
    },
    {
      "cell_type": "markdown",
      "source": [
        "Стандартизация"
      ],
      "metadata": {
        "id": "a_QGN2YChwdk"
      }
    },
    {
      "cell_type": "code",
      "source": [
        "from sklearn.preprocessing import StandardScaler\n",
        "\n",
        "scaler=StandardScaler()\n",
        "X_tsvd=scaler.fit_transform(X_tsvd)"
      ],
      "metadata": {
        "id": "_8gH23suDFfP"
      },
      "execution_count": null,
      "outputs": []
    },
    {
      "cell_type": "markdown",
      "source": [
        "KMeans"
      ],
      "metadata": {
        "id": "0NN4a52Lh0lc"
      }
    },
    {
      "cell_type": "code",
      "source": [
        "from sklearn.cluster import KMeans\n",
        "\n",
        "km=KMeans(n_clusters=7)\n",
        "km.fit(X_tsvd)\n",
        "y_pred=km.predict(X_tsvd)\n",
        "print(np.unique(km.labels_,return_counts=True))"
      ],
      "metadata": {
        "id": "ZjagIYH16BsN"
      },
      "execution_count": null,
      "outputs": []
    },
    {
      "cell_type": "markdown",
      "source": [
        "MiniBatchKMeans(показал себя лучше всего)"
      ],
      "metadata": {
        "id": "BHPytspOh5V-"
      }
    },
    {
      "cell_type": "code",
      "source": [
        "from sklearn.cluster import MiniBatchKMeans\n",
        "\n",
        "mbk=MiniBatchKMeans(n_clusters=5,random_state = 4,batch_size=14000,n_init =1, reassignment_ratio=0.001)\n",
        "mbk.fit(X_tsvd)\n",
        "y_pred=mbk.predict(X_tsvd)\n",
        "print(np.unique(mbk.labels_,return_counts=True))"
      ],
      "metadata": {
        "colab": {
          "base_uri": "https://localhost:8080/"
        },
        "id": "SQFqVIb5YRz_",
        "outputId": "c8cd9fc0-807b-41ed-8c7f-ae2f6cb8c90b"
      },
      "execution_count": null,
      "outputs": [
        {
          "output_type": "stream",
          "name": "stdout",
          "text": [
            "(array([0, 1, 2, 3, 4], dtype=int32), array([ 432, 2736, 5672, 1192, 4558]))\n"
          ]
        }
      ]
    },
    {
      "cell_type": "markdown",
      "source": [
        "Submit"
      ],
      "metadata": {
        "id": "9OqfbyPwh71t"
      }
    },
    {
      "cell_type": "code",
      "source": [
        "import pandas as pd\n",
        "\n",
        "#test_df = pd.read_csv(\"test.csv\")\n",
        "test_df=pd.DataFrame({\"ID\":np.arange(0,14590),\"TARGET\":y_pred})\n",
        "#test_df[\"ID\"]=np.arange(0,14590)\n",
        "#test_df[\"label\"] = y_pred\n",
        "test_df[[\"ID\", \"TARGET\"]].to_csv(\"ml_b.csv\", index=False)\n",
        "\n",
        "!cat ml_b.csv | head"
      ],
      "metadata": {
        "colab": {
          "base_uri": "https://localhost:8080/"
        },
        "id": "BbtqFIQ7-Gkx",
        "outputId": "7d82a2a0-ccc3-4f83-8f8c-3015f170d61a"
      },
      "execution_count": null,
      "outputs": [
        {
          "output_type": "stream",
          "name": "stdout",
          "text": [
            "ID,TARGET\n",
            "0,2\n",
            "1,2\n",
            "2,2\n",
            "3,4\n",
            "4,2\n",
            "5,2\n",
            "6,4\n",
            "7,2\n",
            "8,0\n"
          ]
        }
      ]
    },
    {
      "cell_type": "markdown",
      "source": [
        "DBSCAN"
      ],
      "metadata": {
        "id": "4lFbj5o6iBJ_"
      }
    },
    {
      "cell_type": "code",
      "source": [
        "from sklearn.cluster import DBSCAN\n",
        "clustering=DBSCAN(eps=0.2).fit(X_sparse_tsvd)\n",
        "print(np.unique(clustering.labels_))"
      ],
      "metadata": {
        "id": "QVPu7YZhg3oP"
      },
      "execution_count": null,
      "outputs": []
    },
    {
      "cell_type": "markdown",
      "source": [
        "hdbscan"
      ],
      "metadata": {
        "id": "fU-LAOTJiGbc"
      }
    },
    {
      "cell_type": "code",
      "source": [
        "#!pip install hdbscan\n",
        "import hdbscan\n",
        "clustering=hdbscan.HDBSCAN().fit(X_sparse_tsvd)\n",
        "print(np.unique(clustering.labels_))"
      ],
      "metadata": {
        "colab": {
          "base_uri": "https://localhost:8080/"
        },
        "id": "ap71_rN8ptBm",
        "outputId": "9a65ad5c-63bc-4d03-9d00-1b0bb606a0f1"
      },
      "execution_count": null,
      "outputs": [
        {
          "output_type": "stream",
          "name": "stdout",
          "text": [
            "[-1]\n"
          ]
        }
      ]
    },
    {
      "cell_type": "markdown",
      "source": [
        "OPTICS"
      ],
      "metadata": {
        "id": "V0hhefjTiLV9"
      }
    },
    {
      "cell_type": "code",
      "source": [
        "from sklearn.cluster import OPTICS\n",
        "clust=OPTICS(min_samples=3).fit(X_tsvd)\n",
        "print(np.unique(clust.labels_,return_counts=True))"
      ],
      "metadata": {
        "id": "_TsL-ZyMxgWP"
      },
      "execution_count": null,
      "outputs": []
    }
  ]
}