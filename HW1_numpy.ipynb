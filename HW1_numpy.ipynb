{
  "nbformat": 4,
  "nbformat_minor": 0,
  "metadata": {
    "colab": {
      "provenance": []
    },
    "kernelspec": {
      "name": "python3",
      "display_name": "Python 3"
    },
    "language_info": {
      "name": "python"
    }
  },
  "cells": [
    {
      "cell_type": "code",
      "source": [
        "import numpy as np\n",
        "import matplotlib.pyplot as plt\n",
        "import timeit\n",
        "import random"
      ],
      "metadata": {
        "id": "jf8HGURl5Oca"
      },
      "execution_count": 63,
      "outputs": []
    },
    {
      "cell_type": "markdown",
      "source": [
        "1. Подсчитать произведение ненулевых элементов на диагонали прямоугольной матрицы.\n",
        "Для X = np.array([[1, 0, 1], [2, 0, 2], [3, 0, 3], [4, 4, 4]]) ответ 3."
      ],
      "metadata": {
        "id": "SMQY3xjp5Jz2"
      }
    },
    {
      "cell_type": "code",
      "execution_count": 32,
      "metadata": {
        "id": "DaD1g0EW5IbD"
      },
      "outputs": [],
      "source": [
        "X = np.array([[1, 0, 1], [2, 0, 2], [3, 0, 3], [4, 4, 4]])"
      ]
    },
    {
      "cell_type": "markdown",
      "source": [
        "1.1"
      ],
      "metadata": {
        "id": "szqfttR856tm"
      }
    },
    {
      "cell_type": "code",
      "source": [
        "def f(X):\n",
        "  ans=1\n",
        "  for i in range(min(X.shape[0],X.shape[1])):\n",
        "    if(X[i][i]!=0):\n",
        "      ans*=X[i][i]\n",
        "  return ans\n",
        "print(f(X))\n",
        "%timeit f(X)\n",
        "%timeit f(np.eye(100))\n",
        "%timeit f(np.eye(1000))\n",
        ""
      ],
      "metadata": {
        "colab": {
          "base_uri": "https://localhost:8080/"
        },
        "id": "lX_an7es5moz",
        "outputId": "8f757b4c-bc78-4d92-f5eb-4bb7cd6a9cc3"
      },
      "execution_count": 52,
      "outputs": [
        {
          "output_type": "stream",
          "name": "stdout",
          "text": [
            "3\n",
            "2.31 µs ± 57 ns per loop (mean ± std. dev. of 7 runs, 100000 loops each)\n",
            "102 µs ± 18.7 µs per loop (mean ± std. dev. of 7 runs, 10000 loops each)\n",
            "1.51 ms ± 322 µs per loop (mean ± std. dev. of 7 runs, 1000 loops each)\n"
          ]
        }
      ]
    },
    {
      "cell_type": "markdown",
      "source": [
        "1.2"
      ],
      "metadata": {
        "id": "aXwVh-eH6lxp"
      }
    },
    {
      "cell_type": "code",
      "source": [
        "def f(X):\n",
        "  Y=np.diag(X)\n",
        "  return np.prod(Y[Y!=0])\n",
        "print(f(X))\n",
        "%timeit f(X)\n",
        "%timeit f(np.eye(100))\n",
        "%timeit f(np.eye(1000))"
      ],
      "metadata": {
        "colab": {
          "base_uri": "https://localhost:8080/"
        },
        "id": "axiuN6oM6nrz",
        "outputId": "1133adce-1be0-45ce-b03d-d242cd9266ff"
      },
      "execution_count": 53,
      "outputs": [
        {
          "output_type": "stream",
          "name": "stdout",
          "text": [
            "3\n",
            "8.43 µs ± 145 ns per loop (mean ± std. dev. of 7 runs, 100000 loops each)\n",
            "17.9 µs ± 2.41 µs per loop (mean ± std. dev. of 7 runs, 100000 loops each)\n",
            "455 µs ± 17.6 µs per loop (mean ± std. dev. of 7 runs, 1000 loops each)\n"
          ]
        }
      ]
    },
    {
      "cell_type": "markdown",
      "source": [
        "1.3"
      ],
      "metadata": {
        "id": "z5Pi6zAR7xGc"
      }
    },
    {
      "cell_type": "code",
      "source": [
        "print(np.prod(np.delete(np.diag(X), np.where(np.diag(X)==0))))"
      ],
      "metadata": {
        "colab": {
          "base_uri": "https://localhost:8080/"
        },
        "id": "n150UYbJ7yP4",
        "outputId": "7d791a86-eaf4-4760-8e32-ff58079c5aba"
      },
      "execution_count": null,
      "outputs": [
        {
          "output_type": "stream",
          "name": "stdout",
          "text": [
            "3\n"
          ]
        }
      ]
    },
    {
      "cell_type": "markdown",
      "source": [
        "2. Даны два вектора x и y. Проверить, задают ли они одно и то же мультимножество.\n",
        "# Для x = np.array([1, 2, 2, 4]), y = np.array([4, 2, 1, 2]) ответ True."
      ],
      "metadata": {
        "id": "tqUgb5o9Agvd"
      }
    },
    {
      "cell_type": "code",
      "source": [
        "x = np.array([1, 2, 2, 4])\n",
        "y = np.array([4, 2, 1, 2])"
      ],
      "metadata": {
        "id": "X-2rN26VAkkt"
      },
      "execution_count": 55,
      "outputs": []
    },
    {
      "cell_type": "markdown",
      "source": [
        "2.1"
      ],
      "metadata": {
        "id": "m7Iom7j8BAcJ"
      }
    },
    {
      "cell_type": "code",
      "source": [
        "def f(x,y):\n",
        "  x1=set(x)\n",
        "  y1=set(y)\n",
        "  flag=True\n",
        "  for i in range(len(x)):\n",
        "    if(not (x[i] in y1)):\n",
        "      flag=False\n",
        "  for i in range(len(y)):\n",
        "    if(not (y[i] in x1)):\n",
        "      flag=False\n",
        "  return flag\n",
        "print(f(x,y))\n",
        "%timeit f(x,y)\n",
        "%timeit f(np.ones(100),np.ones(100))\n",
        "%timeit f(np.ones(1000),np.ones(1000))"
      ],
      "metadata": {
        "colab": {
          "base_uri": "https://localhost:8080/"
        },
        "id": "BGSJ0JzRCDk3",
        "outputId": "82c928d3-f17c-458f-c0ea-c8c3aee2a0a3"
      },
      "execution_count": 59,
      "outputs": [
        {
          "output_type": "stream",
          "name": "stdout",
          "text": [
            "True\n",
            "5.2 µs ± 1.36 µs per loop (mean ± std. dev. of 7 runs, 100000 loops each)\n",
            "60.4 µs ± 1.04 µs per loop (mean ± std. dev. of 7 runs, 10000 loops each)\n",
            "753 µs ± 215 µs per loop (mean ± std. dev. of 7 runs, 1000 loops each)\n"
          ]
        }
      ]
    },
    {
      "cell_type": "markdown",
      "source": [
        "2.2"
      ],
      "metadata": {
        "id": "lbMFYL16HCsW"
      }
    },
    {
      "cell_type": "code",
      "source": [
        "def f(x,y):\n",
        "  return((np.sort(np.unique(x))==np.sort(np.unique(y))).all())\n",
        "print(f(x,y))\n",
        "%timeit f(x,y)\n",
        "%timeit f(np.ones(100),np.ones(100))\n",
        "%timeit f(np.ones(1000),np.ones(1000))"
      ],
      "metadata": {
        "colab": {
          "base_uri": "https://localhost:8080/"
        },
        "id": "TEBQc7f5A9c-",
        "outputId": "3d5fce5f-1068-41f8-a18a-8297f6bbcf0f"
      },
      "execution_count": 60,
      "outputs": [
        {
          "output_type": "stream",
          "name": "stdout",
          "text": [
            "True\n",
            "22.3 µs ± 3.41 µs per loop (mean ± std. dev. of 7 runs, 100000 loops each)\n",
            "28 µs ± 1.49 µs per loop (mean ± std. dev. of 7 runs, 10000 loops each)\n",
            "82.2 µs ± 30 µs per loop (mean ± std. dev. of 7 runs, 10000 loops each)\n"
          ]
        }
      ]
    },
    {
      "cell_type": "markdown",
      "source": [
        "2.3"
      ],
      "metadata": {
        "id": "jPkdFLfqLG3a"
      }
    },
    {
      "cell_type": "code",
      "source": [
        "print(set(np.hstack([x,y]))==set(x))"
      ],
      "metadata": {
        "colab": {
          "base_uri": "https://localhost:8080/"
        },
        "id": "mKSre0ZWLH1J",
        "outputId": "957810aa-a614-4439-b828-af09c4438456"
      },
      "execution_count": null,
      "outputs": [
        {
          "output_type": "stream",
          "name": "stdout",
          "text": [
            "True\n"
          ]
        }
      ]
    },
    {
      "cell_type": "markdown",
      "source": [
        "3. Найти максимальный элемент в векторе x среди элементов, перед которыми стоит нулевой.\n",
        "Для x = np.array([6, 2, 0, 3, 0, 0, 5, 7, 0]) ответ 5."
      ],
      "metadata": {
        "id": "0l8h7T9IHMxQ"
      }
    },
    {
      "cell_type": "code",
      "source": [
        "x = np.array([6, 2, 0, 3, 0, 0, 5, 7, 0])\n"
      ],
      "metadata": {
        "id": "QVYuuEdKHRmQ"
      },
      "execution_count": 68,
      "outputs": []
    },
    {
      "cell_type": "markdown",
      "source": [
        "3.1"
      ],
      "metadata": {
        "id": "oxptUC42HtvI"
      }
    },
    {
      "cell_type": "code",
      "source": [
        "def f(x):\n",
        "  maximum=-100\n",
        "  for i in range(1,len(x)):\n",
        "    if(x[i-1]==0 and x[i] > maximum):\n",
        "      maximum=x[i]\n",
        "  return maximum\n",
        "print(f(x))\n",
        "%timeit f(x)\n",
        "%timeit f(np.random.random(100))\n",
        "%timeit f(np.random.random(1000))"
      ],
      "metadata": {
        "colab": {
          "base_uri": "https://localhost:8080/"
        },
        "id": "thOmbjU4HVRR",
        "outputId": "7ca2fa4d-0bbf-4353-b0f9-bfd2563cd10c"
      },
      "execution_count": 66,
      "outputs": [
        {
          "output_type": "stream",
          "name": "stdout",
          "text": [
            "5\n",
            "2.72 µs ± 103 ns per loop (mean ± std. dev. of 7 runs, 100000 loops each)\n",
            "23.9 µs ± 3.75 µs per loop (mean ± std. dev. of 7 runs, 10000 loops each)\n",
            "337 µs ± 92.2 µs per loop (mean ± std. dev. of 7 runs, 1000 loops each)\n"
          ]
        }
      ]
    },
    {
      "cell_type": "markdown",
      "source": [
        "3.2"
      ],
      "metadata": {
        "id": "k_ofYU-pHxNi"
      }
    },
    {
      "cell_type": "code",
      "source": [
        "def f(x):\n",
        "  return np.max(x[1:][(x==0)[:-1]])\n",
        "print(f(x))\n",
        "%timeit f(x)\n"
      ],
      "metadata": {
        "colab": {
          "base_uri": "https://localhost:8080/"
        },
        "id": "5dAbkqVOHrtt",
        "outputId": "7ed1d6e6-b90a-40c4-bfb7-5ce0cbca6da4"
      },
      "execution_count": 79,
      "outputs": [
        {
          "output_type": "stream",
          "name": "stdout",
          "text": [
            "5\n",
            "6.8 µs ± 107 ns per loop (mean ± std. dev. of 7 runs, 100000 loops each)\n"
          ]
        }
      ]
    },
    {
      "cell_type": "markdown",
      "source": [
        "3.3"
      ],
      "metadata": {
        "id": "4saYgYWYK8x4"
      }
    },
    {
      "cell_type": "code",
      "source": [
        "def f(x):\n",
        "  return max((x[i] for i in range(1, len(x)) if x[i - 1] == 0))\n",
        "print(f(x))\n",
        "%timeit f(x)\n"
      ],
      "metadata": {
        "colab": {
          "base_uri": "https://localhost:8080/"
        },
        "id": "-NnMtizgJQdE",
        "outputId": "761c512f-6f4e-43d0-e928-718efaeb7f3b"
      },
      "execution_count": 78,
      "outputs": [
        {
          "output_type": "stream",
          "name": "stdout",
          "text": [
            "5\n",
            "3.06 µs ± 134 ns per loop (mean ± std. dev. of 7 runs, 100000 loops each)\n"
          ]
        }
      ]
    },
    {
      "cell_type": "markdown",
      "source": [
        "4. Дан трёхмерный массив, содержащий изображение, размера (height, width, numChannels), а также вектор длины numChannels. Сложить каналы изображения с указанными весами, и вернуть результат в виде матрицы размера (height, width). Считать реальное изображение можно при помощи функции scipy.misc.imread (если изображение не в формате png, установите пакет pillow: conda install pillow). Преобразуйте цветное изображение в оттенки серого, использовав коэффициенты np.array([0.299, 0.587, 0.114])."
      ],
      "metadata": {
        "id": "ty_tygV7J011"
      }
    },
    {
      "cell_type": "markdown",
      "source": [
        "4.1"
      ],
      "metadata": {
        "id": "AEdu_pr8UfL7"
      }
    },
    {
      "cell_type": "code",
      "source": [
        "#image - трёхмерный массив изображения\n",
        "koef = np.array([0.299, 0.587, 0.114])\n",
        "bw=np.zeros(image.shape[1],image.shape[2]) #массив черно-белого изображения\n",
        "for i in range(3):\n",
        "  for j in range(image.shape[1]):\n",
        "    for k in range(image.shape[2]):\n",
        "      bw[j][k]+=image[i][j][k]*koef[i]\n"
      ],
      "metadata": {
        "id": "dZjmy9xmUCKJ"
      },
      "execution_count": null,
      "outputs": []
    },
    {
      "cell_type": "markdown",
      "source": [
        "4.2"
      ],
      "metadata": {
        "id": "u65zN_CwUh7w"
      }
    },
    {
      "cell_type": "code",
      "source": [
        "#image - трёхмерный массив изображения\n",
        "koef=np.array([0.299, 0.587, 0.114])\n",
        "print((np.dot(image,koef)))"
      ],
      "metadata": {
        "colab": {
          "base_uri": "https://localhost:8080/",
          "height": 176
        },
        "id": "XvPKokHvTUrz",
        "outputId": "3607479b-f91b-42c5-cddb-8cc6bb1946db"
      },
      "execution_count": null,
      "outputs": [
        {
          "output_type": "error",
          "ename": "NameError",
          "evalue": "name 'image' is not defined",
          "traceback": [
            "\u001b[0;31m---------------------------------------------------------------------------\u001b[0m",
            "\u001b[0;31mNameError\u001b[0m                                 Traceback (most recent call last)",
            "\u001b[0;32m<ipython-input-119-897fe41017f0>\u001b[0m in \u001b[0;36m<cell line: 3>\u001b[0;34m()\u001b[0m\n\u001b[1;32m      1\u001b[0m \u001b[0;31m#image - трёхмерный массив, содержащий изображение\u001b[0m\u001b[0;34m\u001b[0m\u001b[0;34m\u001b[0m\u001b[0m\n\u001b[1;32m      2\u001b[0m \u001b[0mkoef\u001b[0m\u001b[0;34m=\u001b[0m\u001b[0mnp\u001b[0m\u001b[0;34m.\u001b[0m\u001b[0marray\u001b[0m\u001b[0;34m(\u001b[0m\u001b[0;34m[\u001b[0m\u001b[0;36m0.299\u001b[0m\u001b[0;34m,\u001b[0m \u001b[0;36m0.587\u001b[0m\u001b[0;34m,\u001b[0m \u001b[0;36m0.114\u001b[0m\u001b[0;34m]\u001b[0m\u001b[0;34m)\u001b[0m\u001b[0;34m\u001b[0m\u001b[0;34m\u001b[0m\u001b[0m\n\u001b[0;32m----> 3\u001b[0;31m \u001b[0mprint\u001b[0m\u001b[0;34m(\u001b[0m\u001b[0;34m(\u001b[0m\u001b[0mnp\u001b[0m\u001b[0;34m.\u001b[0m\u001b[0mdot\u001b[0m\u001b[0;34m(\u001b[0m\u001b[0mimage\u001b[0m\u001b[0;34m,\u001b[0m\u001b[0mkoef\u001b[0m\u001b[0;34m)\u001b[0m\u001b[0;34m)\u001b[0m\u001b[0;34m[\u001b[0m\u001b[0;34m:\u001b[0m\u001b[0;36m2\u001b[0m\u001b[0;34m,\u001b[0m\u001b[0;34m:\u001b[0m\u001b[0;34m]\u001b[0m\u001b[0;34m)\u001b[0m\u001b[0;34m\u001b[0m\u001b[0;34m\u001b[0m\u001b[0m\n\u001b[0m",
            "\u001b[0;31mNameError\u001b[0m: name 'image' is not defined"
          ]
        }
      ]
    },
    {
      "cell_type": "markdown",
      "source": [
        "4.3"
      ],
      "metadata": {
        "id": "AppkULd3UkCx"
      }
    },
    {
      "cell_type": "code",
      "source": [
        "koef=np.array([0.299, 0.587, 0.114])\n",
        "#image - трёхмерный массив, содержащий изображение\n",
        "gray_image = np.zeros((image.shape[0], image.shape[1]))\n",
        "for i in range(image.shape[0]):\n",
        "  for j in range(image.shape[1]):\n",
        "    gray_image[i, j] = np.sum(coef * image[i, j])\n",
        "\n",
        "print(gray_image)"
      ],
      "metadata": {
        "colab": {
          "base_uri": "https://localhost:8080/",
          "height": 106
        },
        "id": "Vx8BAdNNKHK-",
        "outputId": "3e6719ad-75ce-42d7-e08f-89c15d36fbe3"
      },
      "execution_count": null,
      "outputs": [
        {
          "output_type": "error",
          "ename": "SyntaxError",
          "evalue": "incomplete input (<ipython-input-89-ed39868a83ee>, line 2)",
          "traceback": [
            "\u001b[0;36m  File \u001b[0;32m\"<ipython-input-89-ed39868a83ee>\"\u001b[0;36m, line \u001b[0;32m2\u001b[0m\n\u001b[0;31m    def f(X,koef):\u001b[0m\n\u001b[0m                  ^\u001b[0m\n\u001b[0;31mSyntaxError\u001b[0m\u001b[0;31m:\u001b[0m incomplete input\n"
          ]
        }
      ]
    },
    {
      "cell_type": "code",
      "source": [],
      "metadata": {
        "id": "0XM9qxgdP7uv"
      },
      "execution_count": null,
      "outputs": []
    },
    {
      "cell_type": "markdown",
      "source": [
        "5. Реализовать кодирование длин серий (Run-length encoding). Дан вектор x. Необходимо вернуть кортеж из двух векторов одинаковой длины. Первый содержит числа, а второй - сколько раз их нужно повторить.\n",
        "Пример: x = np.array([2, 2, 2, 3, 3, 3, 5, 2, 2]). Ответ: (np.array([2, 3, 5, 2]), np.array([3, 3, 1, 2]))."
      ],
      "metadata": {
        "id": "7NBrgdAaQ0Rr"
      }
    },
    {
      "cell_type": "code",
      "source": [
        "x = np.array([2, 2, 2, 3, 3, 3, 5, 2, 2])\n"
      ],
      "metadata": {
        "id": "VkmfUPA3Q8J2"
      },
      "execution_count": 81,
      "outputs": []
    },
    {
      "cell_type": "markdown",
      "source": [
        "5.1"
      ],
      "metadata": {
        "id": "3WUQO6jWSgcE"
      }
    },
    {
      "cell_type": "code",
      "source": [
        "def code(x):\n",
        "  kolvo=[]\n",
        "  elem=[]\n",
        "  c=1\n",
        "  for i in range(1,len(x)):\n",
        "    if(x[i]==x[i-1]):\n",
        "      c+=1\n",
        "      if(i==len(x)-1):\n",
        "        kolvo.append(c)\n",
        "        elem.append(x[i-1])\n",
        "    else:\n",
        "      kolvo.append(c)\n",
        "      elem.append(x[i-1])\n",
        "      c=1\n",
        "  return (elem, kolvo)\n",
        "print(code(x))\n",
        "%timeit code(x)\n",
        "%timeit code(np.random.randint(0,10,100))\n",
        "%timeit code(np.random.randint(0,10,1000))"
      ],
      "metadata": {
        "colab": {
          "base_uri": "https://localhost:8080/"
        },
        "id": "22DcDzM3RJFv",
        "outputId": "75fb1d0f-14bd-43d3-c768-2a60c1f1bccc"
      },
      "execution_count": 89,
      "outputs": [
        {
          "output_type": "stream",
          "name": "stdout",
          "text": [
            "([2, 3, 5, 2], [3, 3, 1, 2])\n",
            "4.27 µs ± 74.5 ns per loop (mean ± std. dev. of 7 runs, 100000 loops each)\n",
            "92.7 µs ± 11.7 µs per loop (mean ± std. dev. of 7 runs, 10000 loops each)\n",
            "547 µs ± 5.45 µs per loop (mean ± std. dev. of 7 runs, 1000 loops each)\n"
          ]
        }
      ]
    },
    {
      "cell_type": "markdown",
      "source": [
        "5.2"
      ],
      "metadata": {
        "id": "sEM4prdIVEcN"
      }
    },
    {
      "cell_type": "code",
      "source": [
        "def code(a):\n",
        "  change =  (a[1:] != a[:-1])\n",
        "  x = np.append(np.where(change), len(a)-1)\n",
        "  x1=np.insert(x,0,-1)\n",
        "  counter=(x1[1:] - x1[:-1])\n",
        "  return (a[x], counter)\n",
        "print(code(x))\n",
        "%timeit code(x)\n",
        "%timeit code(np.random.randint(0,10,100))\n",
        "%timeit code(np.random.randint(0,10,1000))"
      ],
      "metadata": {
        "colab": {
          "base_uri": "https://localhost:8080/"
        },
        "id": "ytSZ01kzX37Y",
        "outputId": "23ebfb56-1d24-46d0-fd95-0478e275d77a"
      },
      "execution_count": 88,
      "outputs": [
        {
          "output_type": "stream",
          "name": "stdout",
          "text": [
            "(array([2, 3, 5, 2]), array([3, 3, 1, 2]))\n",
            "22.3 µs ± 917 ns per loop (mean ± std. dev. of 7 runs, 10000 loops each)\n",
            "59.4 µs ± 9.81 µs per loop (mean ± std. dev. of 7 runs, 10000 loops each)\n",
            "85.2 µs ± 18.1 µs per loop (mean ± std. dev. of 7 runs, 10000 loops each)\n"
          ]
        }
      ]
    },
    {
      "cell_type": "markdown",
      "source": [
        "5.3"
      ],
      "metadata": {
        "id": "PC0p-RsfcvtW"
      }
    },
    {
      "cell_type": "code",
      "source": [
        "def encode(a):\n",
        "    change =  (a[1:] != a[:-1])\n",
        "    x = np.append(np.where(change), len(a)-1)\n",
        "    parts = np.split(a, x+1)\n",
        "    values, counts=np.zeros(len(parts)-1),np.zeros(len(parts)-1)\n",
        "    for i in range(len(parts)-1):\n",
        "      values[i]=parts[i][0]\n",
        "      counts[i]=len(parts[i])\n",
        "    return (values, counts)\n",
        "print(encode(x))\n",
        "%timeit encode(x)\n",
        "%timeit encode(np.random.randint(0,10,100))\n",
        "%timeit encode(np.random.randint(0,10,1000))"
      ],
      "metadata": {
        "colab": {
          "base_uri": "https://localhost:8080/"
        },
        "id": "c980GoJmSjUZ",
        "outputId": "ea93cd0c-405a-4f0c-9980-4efcab8a8a04"
      },
      "execution_count": 86,
      "outputs": [
        {
          "output_type": "stream",
          "name": "stdout",
          "text": [
            "(array([2., 3., 5., 2.]), array([3., 3., 1., 2.]))\n",
            "27.5 µs ± 7.06 µs per loop (mean ± std. dev. of 7 runs, 10000 loops each)\n",
            "293 µs ± 90.7 µs per loop (mean ± std. dev. of 7 runs, 1000 loops each)\n",
            "1.76 ms ± 88.8 µs per loop (mean ± std. dev. of 7 runs, 100 loops each)\n"
          ]
        }
      ]
    },
    {
      "cell_type": "markdown",
      "source": [
        "Вывод: на массивах, размер которых порядка 10 и меньше, программы с циклами работают с той же или лучшей скоростью в сравнении с векторизованной формой. На массивах порядка больше 10(например, 100), векторизованная форма работает намного быстрее программ с циклами. Это связано с тем, что функции библиотеки Numpy реализованы на С, программы на котором выполняются быстре, чем на Python"
      ],
      "metadata": {
        "id": "DV5Ouu_3f05I"
      }
    }
  ]
}